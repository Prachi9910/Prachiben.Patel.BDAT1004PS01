{
 "cells": [
  {
   "cell_type": "code",
   "execution_count": 15,
   "id": "13a6598f-341b-42d0-9a4d-9870ed236f45",
   "metadata": {},
   "outputs": [
    {
     "name": "stdout",
     "output_type": "stream",
     "text": [
      "Que 2 : Implement function triangleArea(a,b,c) \n",
      " that takes as input the lengths of the 3 sides of a triangle and returns the area of the triangle.\n",
      " By Heron's formula, the area of a triangle with side lengths a, b, and c iss(s - a)(s -b)(s -c), \n",
      " where s = (a +b + c) /2.\n",
      " ---For an ex : triangleArea(2,2,2)\n",
      "\n",
      "\n",
      "-->Area of (2,2,2) :  1.7320508075688772\n",
      "-->Area of (2,2,2) :  74.83314773547883\n"
     ]
    }
   ],
   "source": [
    "# Que 3 :Implement function triangleArea(a,b,c) that takes as input the lengths of the 3 sides of a triangle and returns the area of the triangle. By Heron's formula, the area of a triangle with side lengths a, b, and c iss(s - a)(s -b)(s -c), where s = (a +b + c) /2.\n",
    "print(\"Que 2 : Implement function triangleArea(a,b,c) \\n that takes as input the lengths of the 3 sides of a triangle and returns the area of the triangle.\\n By Heron's formula, the area of a triangle with side lengths a, b, and c iss(s - a)(s -b)(s -c), \\n where s = (a +b + c) /2.\")\n",
    "print(\" ---For an ex : triangleArea(2,2,2)\")\n",
    "print(\"\\n\")\n",
    "def area_of_tri(a,b,c):\n",
    "    s = (a+b+c) / 2\n",
    "    s1 = (s* ((s-a)* (s-b) * (s-c)))\n",
    "    y = s1**.5\n",
    "    return y\n",
    "print(\"-->Area of (2,2,2) : \",area_of_tri(2,2,2))\n",
    "print(\"-->Area of (2,2,2) : \",area_of_tri(12,13,15))\n",
    "\n",
    "      \n",
    "\n",
    "\n",
    "\n",
    "\n",
    "\n",
    "\n",
    "\n",
    "\n",
    "\n"
   ]
  },
  {
   "cell_type": "code",
   "execution_count": null,
   "id": "8329f02a-376b-45c4-bad8-7ebbb424767d",
   "metadata": {},
   "outputs": [],
   "source": []
  },
  {
   "cell_type": "code",
   "execution_count": null,
   "id": "c65cbd48-4d35-4afe-97fc-3543dc283de2",
   "metadata": {},
   "outputs": [],
   "source": []
  }
 ],
 "metadata": {
  "kernelspec": {
   "display_name": "Python 3 (ipykernel)",
   "language": "python",
   "name": "python3"
  },
  "language_info": {
   "codemirror_mode": {
    "name": "ipython",
    "version": 3
   },
   "file_extension": ".py",
   "mimetype": "text/x-python",
   "name": "python",
   "nbconvert_exporter": "python",
   "pygments_lexer": "ipython3",
   "version": "3.10.4"
  }
 },
 "nbformat": 4,
 "nbformat_minor": 5
}
