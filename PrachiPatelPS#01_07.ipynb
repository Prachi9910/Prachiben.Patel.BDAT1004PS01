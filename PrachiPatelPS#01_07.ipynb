{
 "cells": [
  {
   "cell_type": "code",
   "execution_count": 10,
   "id": "74f619f5-976a-46d2-bcb2-ebb6fd97939b",
   "metadata": {},
   "outputs": [
    {
     "ename": "SyntaxError",
     "evalue": "(unicode error) 'unicodeescape' codec can't decode bytes in position 2-3: truncated \\UXXXXXXXX escape (2997323479.py, line 19)",
     "output_type": "error",
     "traceback": [
      "\u001b[1;36m  Input \u001b[1;32mIn [10]\u001b[1;36m\u001b[0m\n\u001b[1;33m    print('\\n') bldcount(\"C:\\Users\\Prachiii\\Desktop\\Assignments\\1004-Data Programming\\Data Set 1\\bldcount.txt\")\u001b[0m\n\u001b[1;37m                                                                                                              ^\u001b[0m\n\u001b[1;31mSyntaxError\u001b[0m\u001b[1;31m:\u001b[0m (unicode error) 'unicodeescape' codec can't decode bytes in position 2-3: truncated \\UXXXXXXXX escape\n"
     ]
    }
   ],
   "source": [
    "# Que 7 :\n",
    "# \n",
    "#\n",
    "print('\\n Que 7 : File bloodtype1.txt records blood-types of patients (A, B, AB, O or OO) at a clinic. Write a function bldcount() that reads the file with name name and reports (i.e., prints) how many patients there are in each bloodtype.')\n",
    "def bldcount(path):\n",
    "    nn= []\n",
    "    op = open(path, 'r')\n",
    "    re = op.read()\n",
    "    op.close()\n",
    "    spp = re.split()\n",
    "    for i in range (len(spp)):\n",
    "        if spp[i] not in nn:\n",
    "            new.append(spp[i])\n",
    "    for i in nn:\n",
    "        print ('There are {} patients with blood type {} ', format (spp.count(i),i))\n",
    "\n",
    "print('\\n\\n')\n",
    "print('-->')\n",
    "print('\\n') bldcount(\"C:\\Users\\Prachiii\\Desktop\\Assignments\\1004-Data Programming\\Data Set 1\\bldcount.txt\")\n",
    "\n"
   ]
  },
  {
   "cell_type": "code",
   "execution_count": null,
   "id": "d8cd0e4c-5919-4669-85b5-c2548998a496",
   "metadata": {},
   "outputs": [],
   "source": []
  },
  {
   "cell_type": "code",
   "execution_count": null,
   "id": "707bc39e-22d7-421f-b617-161e58f27659",
   "metadata": {},
   "outputs": [],
   "source": []
  },
  {
   "cell_type": "code",
   "execution_count": null,
   "id": "a36b7873-2b65-4e3a-a7db-01e03b408e87",
   "metadata": {},
   "outputs": [],
   "source": []
  },
  {
   "cell_type": "code",
   "execution_count": null,
   "id": "847e063c-78a7-4080-b5f2-d0ade416e5e0",
   "metadata": {},
   "outputs": [],
   "source": []
  },
  {
   "cell_type": "code",
   "execution_count": null,
   "id": "b53ea770-fcef-4d80-a75b-4213f1e92fb6",
   "metadata": {},
   "outputs": [],
   "source": []
  }
 ],
 "metadata": {
  "kernelspec": {
   "display_name": "Python 3 (ipykernel)",
   "language": "python",
   "name": "python3"
  },
  "language_info": {
   "codemirror_mode": {
    "name": "ipython",
    "version": 3
   },
   "file_extension": ".py",
   "mimetype": "text/x-python",
   "name": "python",
   "nbconvert_exporter": "python",
   "pygments_lexer": "ipython3",
   "version": "3.10.4"
  }
 },
 "nbformat": 4,
 "nbformat_minor": 5
}
