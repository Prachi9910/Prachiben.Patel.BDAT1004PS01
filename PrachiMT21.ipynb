{
  "metadata": {
    "kernelspec": {
      "name": "python",
      "display_name": "Python (Pyodide)",
      "language": "python"
    },
    "language_info": {
      "codemirror_mode": {
        "name": "python",
        "version": 3
      },
      "file_extension": ".py",
      "mimetype": "text/x-python",
      "name": "python",
      "nbconvert_exporter": "python",
      "pygments_lexer": "ipython3",
      "version": "3.8"
    }
  },
  "nbformat_minor": 5,
  "nbformat": 4,
  "cells": [
    {
      "cell_type": "markdown",
      "source": "#### Prachi Patel - 200520109\n#### QUE : 21",
      "metadata": {},
      "id": "7e004630-6301-449b-8b05-86ed4c1e30ee"
    },
    {
      "cell_type": "code",
      "source": "import pandas as pd\nimport sqlite3",
      "metadata": {},
      "execution_count": 1,
      "outputs": [],
      "id": "dfc245b9"
    },
    {
      "cell_type": "code",
      "source": "df = pd.DataFrame({'name':['Afghanistan','Albania','Algeria','Andorra','Angola'],\n                   'continent':['Asia','Europe','Africa','Europe','Africa'],\n                   'area':[652230,28748,2381741,468,1246700],\n                   'population':[25500100,2831741,37100000,78115,20609294],\n                   'gdp':[20343000,12960000,188681000,3712000,100990000]\n                  })\ndf\n    ",
      "metadata": {},
      "execution_count": 2,
      "outputs": [
        {
          "execution_count": 2,
          "output_type": "execute_result",
          "data": {
            "text/html": [
              "<div>\n",
              "<style scoped>\n",
              "    .dataframe tbody tr th:only-of-type {\n",
              "        vertical-align: middle;\n",
              "    }\n",
              "\n",
              "    .dataframe tbody tr th {\n",
              "        vertical-align: top;\n",
              "    }\n",
              "\n",
              "    .dataframe thead th {\n",
              "        text-align: right;\n",
              "    }\n",
              "</style>\n",
              "<table border=\"1\" class=\"dataframe\">\n",
              "  <thead>\n",
              "    <tr style=\"text-align: right;\">\n",
              "      <th></th>\n",
              "      <th>name</th>\n",
              "      <th>continent</th>\n",
              "      <th>area</th>\n",
              "      <th>population</th>\n",
              "      <th>gdp</th>\n",
              "    </tr>\n",
              "  </thead>\n",
              "  <tbody>\n",
              "    <tr>\n",
              "      <th>0</th>\n",
              "      <td>Afghanistan</td>\n",
              "      <td>Asia</td>\n",
              "      <td>652230</td>\n",
              "      <td>25500100</td>\n",
              "      <td>20343000</td>\n",
              "    </tr>\n",
              "    <tr>\n",
              "      <th>1</th>\n",
              "      <td>Albania</td>\n",
              "      <td>Europe</td>\n",
              "      <td>28748</td>\n",
              "      <td>2831741</td>\n",
              "      <td>12960000</td>\n",
              "    </tr>\n",
              "    <tr>\n",
              "      <th>2</th>\n",
              "      <td>Algeria</td>\n",
              "      <td>Africa</td>\n",
              "      <td>2381741</td>\n",
              "      <td>37100000</td>\n",
              "      <td>188681000</td>\n",
              "    </tr>\n",
              "    <tr>\n",
              "      <th>3</th>\n",
              "      <td>Andorra</td>\n",
              "      <td>Europe</td>\n",
              "      <td>468</td>\n",
              "      <td>78115</td>\n",
              "      <td>3712000</td>\n",
              "    </tr>\n",
              "    <tr>\n",
              "      <th>4</th>\n",
              "      <td>Angola</td>\n",
              "      <td>Africa</td>\n",
              "      <td>1246700</td>\n",
              "      <td>20609294</td>\n",
              "      <td>100990000</td>\n",
              "    </tr>\n",
              "  </tbody>\n",
              "</table>\n",
              "</div>"
            ],
            "text/plain": [
              "          name continent     area  population        gdp\n",
              "0  Afghanistan      Asia   652230    25500100   20343000\n",
              "1      Albania    Europe    28748     2831741   12960000\n",
              "2      Algeria    Africa  2381741    37100000  188681000\n",
              "3      Andorra    Europe      468       78115    3712000\n",
              "4       Angola    Africa  1246700    20609294  100990000"
            ]
          },
          "metadata": {}
        }
      ],
      "id": "eb3ceeaf"
    },
    {
      "cell_type": "code",
      "source": "cnn = sqlite3.connect('midTerm.db')\n",
      "metadata": {},
      "execution_count": 3,
      "outputs": [],
      "id": "b759c7bb"
    },
    {
      "cell_type": "code",
      "source": "df.to_sql('contryData',cnn)",
      "metadata": {},
      "execution_count": 5,
      "outputs": [
        {
          "execution_count": 5,
          "output_type": "execute_result",
          "data": {
            "text/plain": [
              "5"
            ]
          },
          "metadata": {}
        }
      ],
      "id": "0944fe62"
    },
    {
      "cell_type": "code",
      "source": "%load_ext sql",
      "metadata": {},
      "execution_count": 6,
      "outputs": [],
      "id": "0b176d5c"
    },
    {
      "cell_type": "code",
      "source": "%sql sqlite:///midTerm.db",
      "metadata": {},
      "execution_count": 7,
      "outputs": [],
      "id": "268b205c"
    },
    {
      "cell_type": "code",
      "source": "%%sql\nselect name,population,area from contryData ",
      "metadata": {},
      "execution_count": 9,
      "outputs": [
        {
          "name": "stdout",
          "output_type": "stream",
          "text": " * sqlite:///midTerm.db\n\nDone.\n"
        },
        {
          "execution_count": 9,
          "output_type": "execute_result",
          "data": {
            "text/html": [
              "<table>\n",
              "    <tr>\n",
              "        <th>name</th>\n",
              "        <th>population</th>\n",
              "        <th>area</th>\n",
              "    </tr>\n",
              "    <tr>\n",
              "        <td>Afghanistan</td>\n",
              "        <td>25500100</td>\n",
              "        <td>652230</td>\n",
              "    </tr>\n",
              "    <tr>\n",
              "        <td>Albania</td>\n",
              "        <td>2831741</td>\n",
              "        <td>28748</td>\n",
              "    </tr>\n",
              "    <tr>\n",
              "        <td>Algeria</td>\n",
              "        <td>37100000</td>\n",
              "        <td>2381741</td>\n",
              "    </tr>\n",
              "    <tr>\n",
              "        <td>Andorra</td>\n",
              "        <td>78115</td>\n",
              "        <td>468</td>\n",
              "    </tr>\n",
              "    <tr>\n",
              "        <td>Angola</td>\n",
              "        <td>20609294</td>\n",
              "        <td>1246700</td>\n",
              "    </tr>\n",
              "</table>"
            ],
            "text/plain": [
              "[('Afghanistan', 25500100, 652230),\n",
              " ('Albania', 2831741, 28748),\n",
              " ('Algeria', 37100000, 2381741),\n",
              " ('Andorra', 78115, 468),\n",
              " ('Angola', 20609294, 1246700)]"
            ]
          },
          "metadata": {}
        }
      ],
      "id": "53a5a90e"
    },
    {
      "cell_type": "code",
      "source": "",
      "metadata": {},
      "execution_count": null,
      "outputs": [],
      "id": "fb2f8bbe"
    }
  ]
}