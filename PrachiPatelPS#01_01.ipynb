{
 "cells": [
  {
   "cell_type": "code",
   "execution_count": 17,
   "id": "2b8e6f13-1ce2-43c9-b828-f8b0eb34a03b",
   "metadata": {},
   "outputs": [
    {
     "name": "stdout",
     "output_type": "stream",
     "text": [
      " Que 1 :What data type is each of the following (evaluate where necessary)? \n",
      "\n",
      "\n",
      "the data type of 5 :  <class 'int'>\n",
      "the data type of 5.0  <class 'float'>\n",
      "the data type of 5>1  <class 'bool'>\n",
      "the data type of '5'  <class 'str'>\n",
      "the data type of 5 * 2  <class 'int'>\n",
      "the data tye of 5 + 2  <class 'int'>\n",
      "the data type of 5 / 2  <class 'float'>\n",
      "the data type of 5 % 2  <class 'int'>\n",
      "the data type of {5,2,1}  <class 'set'>\n",
      "the data type of 5 == 3 <class 'bool'>\n"
     ]
    },
    {
     "ename": "NameError",
     "evalue": "name 'math' is not defined",
     "output_type": "error",
     "traceback": [
      "\u001b[1;31m---------------------------------------------------------------------------\u001b[0m",
      "\u001b[1;31mNameError\u001b[0m                                 Traceback (most recent call last)",
      "Input \u001b[1;32mIn [17]\u001b[0m, in \u001b[0;36m<cell line: 17>\u001b[1;34m()\u001b[0m\n\u001b[0;32m     15\u001b[0m \u001b[38;5;28mprint\u001b[39m(\u001b[38;5;124m\"\u001b[39m\u001b[38;5;124mthe data type of \u001b[39m\u001b[38;5;124m{\u001b[39m\u001b[38;5;124m5,2,1} \u001b[39m\u001b[38;5;124m\"\u001b[39m,(\u001b[38;5;28mtype\u001b[39m({\u001b[38;5;241m5\u001b[39m,\u001b[38;5;241m2\u001b[39m,\u001b[38;5;241m1\u001b[39m})))\n\u001b[0;32m     16\u001b[0m \u001b[38;5;28mprint\u001b[39m(\u001b[38;5;124m\"\u001b[39m\u001b[38;5;124mthe data type of 5 == 3\u001b[39m\u001b[38;5;124m\"\u001b[39m,(\u001b[38;5;28mtype\u001b[39m(\u001b[38;5;241m3\u001b[39m\u001b[38;5;241m==\u001b[39m\u001b[38;5;241m5\u001b[39m)))\n\u001b[1;32m---> 17\u001b[0m \u001b[38;5;28mprint\u001b[39m(\u001b[38;5;124m\"\u001b[39m\u001b[38;5;124mthe data type of Pi(the number) \u001b[39m\u001b[38;5;124m\"\u001b[39m, \u001b[38;5;28mtype\u001b[39m(\u001b[43mmath\u001b[49m\u001b[38;5;241m.\u001b[39mpi))\n",
      "\u001b[1;31mNameError\u001b[0m: name 'math' is not defined"
     ]
    }
   ],
   "source": [
    "# Que 1 : What data type is each of the following (evaluate where necessary)?\n",
    "#\n",
    "#\n",
    "#\n",
    "print(\" Que 1 :What data type is each of the following (evaluate where necessary)? \\n\\n\")\n",
    "\n",
    "print(\"the data type of 5 : \", type(5))\n",
    "print(\"the data type of 5.0 \",(type(5.0)))\n",
    "print(\"the data type of 5>1 \",(type(5>1)))\n",
    "print(\"the data type of '5' \",(type('5')))\n",
    "print(\"the data type of 5 * 2 \", (type(5*2)))\n",
    "print(\"the data tye of 5 + 2 \", (type(5+2)))\n",
    "print(\"the data type of 5 / 2 \", (type(5/2)))\n",
    "print(\"the data type of 5 % 2 \", (type(5%2)))\n",
    "print(\"the data type of {5,2,1} \",(type({5,2,1})))\n",
    "print(\"the data type of 5 == 3\",(type(3==5)))\n",
    "print(\"the data type of Pi(the number) \", type(math.pi))"
   ]
  },
  {
   "cell_type": "code",
   "execution_count": null,
   "id": "fe37e341-fe35-47d1-836e-4703a38cd1aa",
   "metadata": {},
   "outputs": [],
   "source": []
  },
  {
   "cell_type": "code",
   "execution_count": null,
   "id": "7c0f01f2-98da-4378-8cd1-a7669c952fd6",
   "metadata": {},
   "outputs": [],
   "source": []
  }
 ],
 "metadata": {
  "kernelspec": {
   "display_name": "Python 3 (ipykernel)",
   "language": "python",
   "name": "python3"
  },
  "language_info": {
   "codemirror_mode": {
    "name": "ipython",
    "version": 3
   },
   "file_extension": ".py",
   "mimetype": "text/x-python",
   "name": "python",
   "nbconvert_exporter": "python",
   "pygments_lexer": "ipython3",
   "version": "3.10.4"
  }
 },
 "nbformat": 4,
 "nbformat_minor": 5
}
