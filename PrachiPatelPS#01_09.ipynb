{
 "cells": [
  {
   "cell_type": "code",
   "execution_count": 2,
   "id": "25e98799-4d8f-49f5-94f7-02530e73c1bd",
   "metadata": {},
   "outputs": [
    {
     "name": "stdout",
     "output_type": "stream",
     "text": [
      "\n",
      "Que 9 : Each of the following will cause an exception (an error). Identify what type of exception each will cause.\n",
      "-->>\n"
     ]
    },
    {
     "ename": "TypeError",
     "evalue": "unsupported operand type(s) for +: 'int' and 'str'",
     "output_type": "error",
     "traceback": [
      "\u001b[1;31m---------------------------------------------------------------------------\u001b[0m",
      "\u001b[1;31mTypeError\u001b[0m                                 Traceback (most recent call last)",
      "Input \u001b[1;32mIn [2]\u001b[0m, in \u001b[0;36m<cell line: 5>\u001b[1;34m()\u001b[0m\n\u001b[0;32m      3\u001b[0m \u001b[38;5;28mprint\u001b[39m(\u001b[38;5;124m\"\u001b[39m\u001b[38;5;130;01m\\n\u001b[39;00m\u001b[38;5;124mQue 9 : Each of the following will cause an exception (an error). Identify what type of exception each will cause.\u001b[39m\u001b[38;5;124m\"\u001b[39m)\n\u001b[0;32m      4\u001b[0m \u001b[38;5;28mprint\u001b[39m(\u001b[38;5;124m\"\u001b[39m\u001b[38;5;124m-->>\u001b[39m\u001b[38;5;124m\"\u001b[39m)\n\u001b[1;32m----> 5\u001b[0m \u001b[38;5;28mprint\u001b[39m(\u001b[38;5;124m\"\u001b[39m\u001b[38;5;124m->  Trying to add incompatible variables, as inadding 6 + ‘a’\u001b[39m\u001b[38;5;124m\"\u001b[39m,\u001b[38;5;241;43m6\u001b[39;49m\u001b[43m \u001b[49m\u001b[38;5;241;43m+\u001b[39;49m\u001b[43m \u001b[49m\u001b[38;5;124;43m'\u001b[39;49m\u001b[38;5;124;43ma\u001b[39;49m\u001b[38;5;124;43m'\u001b[39;49m)\n",
      "\u001b[1;31mTypeError\u001b[0m: unsupported operand type(s) for +: 'int' and 'str'"
     ]
    }
   ],
   "source": [
    "#Que 9 : Each of the following will cause an exception (an error). Identify what type of exception each will cause.\n",
    "#\n",
    "print(\"\\nQue 9 : Each of the following will cause an exception (an error). Identify what type of exception each will cause.\")\n",
    "print(\"-->>\")\n",
    "print(\"->  Trying to add incompatible variables, as inadding 6 + ‘a’\",6 + 'a')"
   ]
  },
  {
   "cell_type": "code",
   "execution_count": 3,
   "id": "eab79290-ee7e-49a2-a7f5-de00d5c156fb",
   "metadata": {},
   "outputs": [
    {
     "name": "stdout",
     "output_type": "stream",
     "text": [
      "both has different data type\n"
     ]
    }
   ],
   "source": [
    "print(\"both has different data type\")"
   ]
  },
  {
   "cell_type": "code",
   "execution_count": 4,
   "id": "3a59cb68-1d00-4018-9853-176b4128a644",
   "metadata": {},
   "outputs": [
    {
     "name": "stdout",
     "output_type": "stream",
     "text": [
      "->Referring to the 12th item of a list that has only 10 items\n"
     ]
    },
    {
     "ename": "IndexError",
     "evalue": "list index out of range",
     "output_type": "error",
     "traceback": [
      "\u001b[1;31m---------------------------------------------------------------------------\u001b[0m",
      "\u001b[1;31mIndexError\u001b[0m                                Traceback (most recent call last)",
      "Input \u001b[1;32mIn [4]\u001b[0m, in \u001b[0;36m<cell line: 3>\u001b[1;34m()\u001b[0m\n\u001b[0;32m      1\u001b[0m \u001b[38;5;28mprint\u001b[39m(\u001b[38;5;124m\"\u001b[39m\u001b[38;5;124m->Referring to the 12th item of a list that has only 10 items\u001b[39m\u001b[38;5;124m\"\u001b[39m)\n\u001b[0;32m      2\u001b[0m \u001b[38;5;28mlist\u001b[39m \u001b[38;5;241m=\u001b[39m [\u001b[38;5;241m1\u001b[39m,\u001b[38;5;241m2\u001b[39m,\u001b[38;5;241m3\u001b[39m,\u001b[38;5;241m4\u001b[39m,\u001b[38;5;241m5\u001b[39m,\u001b[38;5;241m6\u001b[39m,\u001b[38;5;241m7\u001b[39m,\u001b[38;5;241m8\u001b[39m,\u001b[38;5;241m9\u001b[39m,\u001b[38;5;241m0\u001b[39m]\n\u001b[1;32m----> 3\u001b[0m \u001b[38;5;28mprint\u001b[39m(\u001b[38;5;28;43mlist\u001b[39;49m\u001b[43m[\u001b[49m\u001b[38;5;241;43m12\u001b[39;49m\u001b[43m]\u001b[49m)\n",
      "\u001b[1;31mIndexError\u001b[0m: list index out of range"
     ]
    }
   ],
   "source": [
    "print(\"->Referring to the 12th item of a list that has only 10 items\")\n",
    "list = [1,2,3,4,5,6,7,8,9,0]\n",
    "print(list[12])"
   ]
  },
  {
   "cell_type": "code",
   "execution_count": 5,
   "id": "74260281-d116-4c5c-a9e0-216659671db4",
   "metadata": {},
   "outputs": [
    {
     "name": "stdout",
     "output_type": "stream",
     "text": [
      "out of range becoz there is no 12th eliment\n"
     ]
    }
   ],
   "source": [
    "print(\"out of range becoz there is no 12th eliment\")"
   ]
  },
  {
   "cell_type": "code",
   "execution_count": 6,
   "id": "cb158d62-d5e0-453d-bd4d-d0855dcb81f5",
   "metadata": {},
   "outputs": [
    {
     "name": "stdout",
     "output_type": "stream",
     "text": [
      "-> Using a value that is out of range for a function’s input, such as calling math.sqrt(-1.0)\n"
     ]
    },
    {
     "ename": "NameError",
     "evalue": "name 'math' is not defined",
     "output_type": "error",
     "traceback": [
      "\u001b[1;31m---------------------------------------------------------------------------\u001b[0m",
      "\u001b[1;31mNameError\u001b[0m                                 Traceback (most recent call last)",
      "Input \u001b[1;32mIn [6]\u001b[0m, in \u001b[0;36m<cell line: 2>\u001b[1;34m()\u001b[0m\n\u001b[0;32m      1\u001b[0m \u001b[38;5;28mprint\u001b[39m(\u001b[38;5;124m\"\u001b[39m\u001b[38;5;124m-> Using a value that is out of range for a function’s input, such as calling math.sqrt(-1.0)\u001b[39m\u001b[38;5;124m\"\u001b[39m)\n\u001b[1;32m----> 2\u001b[0m \u001b[38;5;28mprint\u001b[39m(\u001b[43mmath\u001b[49m\u001b[38;5;241m.\u001b[39msqrt(\u001b[38;5;241m-\u001b[39m\u001b[38;5;241m1\u001b[39m))\n",
      "\u001b[1;31mNameError\u001b[0m: name 'math' is not defined"
     ]
    }
   ],
   "source": [
    "print(\"-> Using a value that is out of range for a function’s input, such as calling math.sqrt(-1.0)\")\n",
    "print(math.sqrt(-1))"
   ]
  },
  {
   "cell_type": "code",
   "execution_count": 8,
   "id": "2a2e2370-b7d0-4ec9-a319-197d7ea957c0",
   "metadata": {},
   "outputs": [
    {
     "name": "stdout",
     "output_type": "stream",
     "text": [
      "square root can not be performed of minus values\n"
     ]
    }
   ],
   "source": [
    "print(\"square root can not be performed of minus values\")"
   ]
  },
  {
   "cell_type": "code",
   "execution_count": 9,
   "id": "f43f42bf-0224-4098-8a73-a84521fa07fa",
   "metadata": {},
   "outputs": [
    {
     "name": "stdout",
     "output_type": "stream",
     "text": [
      "-> Using an undeclared variable, such asp rint(x) when x has not been defined\n"
     ]
    },
    {
     "ename": "NameError",
     "evalue": "name 'xx' is not defined",
     "output_type": "error",
     "traceback": [
      "\u001b[1;31m---------------------------------------------------------------------------\u001b[0m",
      "\u001b[1;31mNameError\u001b[0m                                 Traceback (most recent call last)",
      "Input \u001b[1;32mIn [9]\u001b[0m, in \u001b[0;36m<cell line: 2>\u001b[1;34m()\u001b[0m\n\u001b[0;32m      1\u001b[0m \u001b[38;5;28mprint\u001b[39m(\u001b[38;5;124m\"\u001b[39m\u001b[38;5;124m-> Using an undeclared variable, such asp rint(x) when x has not been defined\u001b[39m\u001b[38;5;124m\"\u001b[39m)\n\u001b[1;32m----> 2\u001b[0m \u001b[38;5;28mprint\u001b[39m(\u001b[43mxx\u001b[49m)\n",
      "\u001b[1;31mNameError\u001b[0m: name 'xx' is not defined"
     ]
    }
   ],
   "source": [
    "print(\"-> Using an undeclared variable, such asp rint(x) when x has not been defined\")\n",
    "print(xx)"
   ]
  },
  {
   "cell_type": "code",
   "execution_count": 10,
   "id": "3cd71bba-e39e-4264-b2c2-f2d685e1b798",
   "metadata": {},
   "outputs": [
    {
     "name": "stdout",
     "output_type": "stream",
     "text": [
      "as becoz there is xx is not defined for any data value\n"
     ]
    }
   ],
   "source": [
    "print(\"as becoz there is xx is not defined for any data value\")"
   ]
  },
  {
   "cell_type": "code",
   "execution_count": null,
   "id": "4d3c244e-1208-4f55-981a-d7fc05ac1893",
   "metadata": {},
   "outputs": [],
   "source": [
    "\n",
    "\n"
   ]
  },
  {
   "cell_type": "code",
   "execution_count": 12,
   "id": "a3ae2533-5efe-4945-abdc-4af776140f06",
   "metadata": {},
   "outputs": [
    {
     "name": "stdout",
     "output_type": "stream",
     "text": [
      "Trying to open a file that does not exist, such asmistyping the file name or looking in the wrongdirectory.\n"
     ]
    },
    {
     "ename": "FileNotFoundError",
     "evalue": "[Errno 2] No such file or directory: 'C:\\\\ldcount.txt'",
     "output_type": "error",
     "traceback": [
      "\u001b[1;31m---------------------------------------------------------------------------\u001b[0m",
      "\u001b[1;31mFileNotFoundError\u001b[0m                         Traceback (most recent call last)",
      "Input \u001b[1;32mIn [12]\u001b[0m, in \u001b[0;36m<cell line: 3>\u001b[1;34m()\u001b[0m\n\u001b[0;32m      1\u001b[0m \u001b[38;5;28mprint\u001b[39m(\u001b[38;5;124m\"\u001b[39m\u001b[38;5;124mTrying to open a file that does not exist, such asmistyping the file name or looking in the wrongdirectory.\u001b[39m\u001b[38;5;124m\"\u001b[39m)\n\u001b[0;32m      2\u001b[0m path \u001b[38;5;241m=\u001b[39m \u001b[38;5;124m\"\u001b[39m\u001b[38;5;124mC:\u001b[39m\u001b[38;5;124m\\\u001b[39m\u001b[38;5;124mldcount.txt\u001b[39m\u001b[38;5;124m\"\u001b[39m\n\u001b[1;32m----> 3\u001b[0m op \u001b[38;5;241m=\u001b[39m \u001b[38;5;28;43mopen\u001b[39;49m\u001b[43m(\u001b[49m\u001b[43mpath\u001b[49m\u001b[43m,\u001b[49m\u001b[43m \u001b[49m\u001b[38;5;124;43m'\u001b[39;49m\u001b[38;5;124;43mr\u001b[39;49m\u001b[38;5;124;43m'\u001b[39;49m\u001b[43m)\u001b[49m\n\u001b[0;32m      4\u001b[0m re \u001b[38;5;241m=\u001b[39m op\u001b[38;5;241m.\u001b[39mread()\n\u001b[0;32m      5\u001b[0m op\u001b[38;5;241m.\u001b[39mclose()\n",
      "\u001b[1;31mFileNotFoundError\u001b[0m: [Errno 2] No such file or directory: 'C:\\\\ldcount.txt'"
     ]
    }
   ],
   "source": [
    "print(\"Trying to open a file that does not exist, such asmistyping the file name or looking in the wrongdirectory.\")\n",
    "path = \"C:\\ldcount.txt\"\n",
    "op = open(path, 'r')\n",
    "re = op.read()\n",
    "op.close()\n",
    "print(re)"
   ]
  },
  {
   "cell_type": "code",
   "execution_count": 13,
   "id": "30642e00-e089-4f92-bbca-01110a696ac6",
   "metadata": {},
   "outputs": [
    {
     "name": "stdout",
     "output_type": "stream",
     "text": [
      "as file is not existing so \n"
     ]
    }
   ],
   "source": [
    "print(\"as file is not existing so \")"
   ]
  },
  {
   "cell_type": "code",
   "execution_count": null,
   "id": "2ee198ed-d68e-4b9e-a64d-b216d7793d11",
   "metadata": {},
   "outputs": [],
   "source": [
    "\n"
   ]
  }
 ],
 "metadata": {
  "kernelspec": {
   "display_name": "Python 3 (ipykernel)",
   "language": "python",
   "name": "python3"
  },
  "language_info": {
   "codemirror_mode": {
    "name": "ipython",
    "version": 3
   },
   "file_extension": ".py",
   "mimetype": "text/x-python",
   "name": "python",
   "nbconvert_exporter": "python",
   "pygments_lexer": "ipython3",
   "version": "3.10.4"
  }
 },
 "nbformat": 4,
 "nbformat_minor": 5
}
