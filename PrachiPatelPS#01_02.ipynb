{
 "cells": [
  {
   "cell_type": "code",
   "execution_count": 17,
   "id": "d0bf84bb-f8aa-49ad-8c49-754bb3c0606b",
   "metadata": {},
   "outputs": [
    {
     "name": "stdout",
     "output_type": "stream",
     "text": [
      "Que 2 : Write (and evaluate) python expressions that answer these questions:\n",
      "\n",
      "\n",
      " a. How many letters are there in 'Supercalifragilisticexpialidocious'? \n",
      " -->  34\n",
      "\n",
      "\n",
      " b. Does 'Supercalifragilisticexpialidocious' contain 'ice' as a substring? \n",
      " --> True\n",
      "\n",
      "\n",
      " c. c. Which of the following words is the longest: \n",
      " Supercalifragilisticexpialidocious, Honorificabilitudinitatibus, or Bababadalgharaghtakamminarronnkonn\n",
      "--> Supercalifragilisticexpialidocious \n",
      "\n",
      " d. Which composer comes first and  Which one comes lasti n the dictionary: \n",
      "'Berlioz', 'Borodin', 'Brian','Bartok', 'Bellini', 'Buxtehude', 'Bernstein' \n",
      "\n",
      "--> The first one is  Bartok\n",
      "--> The last one is  Buxtehude\n"
     ]
    }
   ],
   "source": [
    "# Que 2 : Write (and evaluate) python expressions that answer these questions:\n",
    "#\n",
    "#\n",
    "# a. How many letters are there in 'Supercalifragilisticexpialidocious'?\n",
    "print(\"Que 2 : Write (and evaluate) python expressions that answer these questions:\\n\\n\")\n",
    "\n",
    "print(\" a. How many letters are there in 'Supercalifragilisticexpialidocious'? \\n --> \",len('Supercalifragilisticexpialidocious')\n",
    ")\n",
    "print(\"\\n\")\n",
    "\n",
    "print(\" b. Does 'Supercalifragilisticexpialidocious' contain 'ice' as a substring? \\n -->\",'ice' in 'Supercalifragilisticexpialidocious')\n",
    "print(\"\\n\")\n",
    "\n",
    "print(\" c. c. Which of the following words is the longest: \\n Supercalifragilisticexpialidocious, Honorificabilitudinitatibus, or Bababadalgharaghtakamminarronnkonn\")\n",
    "dt = ['Supercalifragilisticexpialidocious','Honorificabilitudinitatibus','Bababadalgharaghtakamminarronnkonn?']\n",
    "\n",
    "print(\"-->\",max(dt),\"\\n\")\n",
    "\n",
    "print(\" d. Which composer comes first and  Which one comes lasti n the dictionary: \\n'Berlioz', 'Borodin', 'Brian','Bartok', 'Bellini', 'Buxtehude', 'Bernstein' \\n\")\n",
    "the_list = ['Berlioz', 'Borodin', 'Brian','Bartok', 'Bellini', 'Buxtehude', 'Bernstein']\n",
    "the_list.sort()\n",
    "print(\"--> The first one is \",the_list[0])\n",
    "print(\"--> The last one is \", the_list[-1])\n",
    "\n",
    "\n",
    "\n",
    "\n",
    "\n"
   ]
  },
  {
   "cell_type": "code",
   "execution_count": null,
   "id": "5aac7fb5-2fc8-45d9-b851-26ce3e264012",
   "metadata": {},
   "outputs": [],
   "source": []
  }
 ],
 "metadata": {
  "kernelspec": {
   "display_name": "Python 3 (ipykernel)",
   "language": "python",
   "name": "python3"
  },
  "language_info": {
   "codemirror_mode": {
    "name": "ipython",
    "version": 3
   },
   "file_extension": ".py",
   "mimetype": "text/x-python",
   "name": "python",
   "nbconvert_exporter": "python",
   "pygments_lexer": "ipython3",
   "version": "3.10.4"
  }
 },
 "nbformat": 4,
 "nbformat_minor": 5
}
