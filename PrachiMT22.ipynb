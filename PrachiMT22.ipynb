{
  "metadata": {
    "kernelspec": {
      "name": "python",
      "display_name": "Python (Pyodide)",
      "language": "python"
    },
    "language_info": {
      "codemirror_mode": {
        "name": "ipython",
        "version": 3
      },
      "file_extension": ".py",
      "mimetype": "text/x-python",
      "name": "python",
      "nbconvert_exporter": "python",
      "pygments_lexer": "ipython3",
      "version": "3.10.5"
    }
  },
  "nbformat_minor": 5,
  "nbformat": 4,
  "cells": [
    {
      "cell_type": "markdown",
      "source": "#### Prachi Patel - 200520109 \n#### QUE : 22",
      "metadata": {},
      "id": "cb6ac4d6-c404-4a10-be65-4904d141dc89"
    },
    {
      "cell_type": "code",
      "source": "class PriorityQueue(object):\n    def __init__(self):\n        self.queue=[]\n    def _str_(self):\n        return ''.join([str(i) for i in self.queue])\n    def isEmpty(self):\n        return len(self.queue) == 0\n    def insert(self, data):\n        self.queue.append(data)\n    def min(self):\n        print (min(self.queue))\n    def removeMin(self):\n        self.queue.remove(min(self.queue))\n    def _len_(self):\n        result=len(self.queue)\n        print(result)\n        return result",
      "metadata": {},
      "execution_count": 22,
      "outputs": [],
      "id": "41a6dafb"
    },
    {
      "cell_type": "code",
      "source": "pq.insert(3)",
      "metadata": {},
      "execution_count": 30,
      "outputs": [],
      "id": "8dfe603a"
    },
    {
      "cell_type": "code",
      "source": "pq.insert(1)",
      "metadata": {},
      "execution_count": 31,
      "outputs": [],
      "id": "c31d7bf1"
    },
    {
      "cell_type": "code",
      "source": "pq.insert(5)",
      "metadata": {},
      "execution_count": 32,
      "outputs": [],
      "id": "4a2555ce"
    },
    {
      "cell_type": "code",
      "source": "pq.insert(2)",
      "metadata": {},
      "execution_count": 33,
      "outputs": [],
      "id": "51da65b2"
    },
    {
      "cell_type": "code",
      "source": "pq.min()",
      "metadata": {},
      "execution_count": 34,
      "outputs": [
        {
          "name": "stdout",
          "output_type": "stream",
          "text": "1\n"
        }
      ],
      "id": "58cb44be"
    },
    {
      "cell_type": "code",
      "source": "pq.removeMin()",
      "metadata": {},
      "execution_count": 35,
      "outputs": [],
      "id": "375d9141"
    },
    {
      "cell_type": "code",
      "source": "pq.min()",
      "metadata": {},
      "execution_count": 36,
      "outputs": [
        {
          "name": "stdout",
          "output_type": "stream",
          "text": "2\n"
        }
      ],
      "id": "5ee93686"
    },
    {
      "cell_type": "code",
      "source": "pq._len_()",
      "metadata": {},
      "execution_count": 40,
      "outputs": [
        {
          "name": "stdout",
          "output_type": "stream",
          "text": "7\n"
        },
        {
          "execution_count": 40,
          "output_type": "execute_result",
          "data": {
            "text/plain": [
              "7"
            ]
          },
          "metadata": {}
        }
      ],
      "id": "6ba8dda9"
    },
    {
      "cell_type": "code",
      "source": "pq.isEmpty()",
      "metadata": {},
      "execution_count": 41,
      "outputs": [
        {
          "execution_count": 41,
          "output_type": "execute_result",
          "data": {
            "text/plain": [
              "False"
            ]
          },
          "metadata": {}
        }
      ],
      "id": "dcec3396"
    },
    {
      "cell_type": "code",
      "source": "len(pq)",
      "metadata": {},
      "execution_count": 42,
      "outputs": [
        {
          "ename": "TypeError",
          "evalue": "object of type 'PriorityQueue' has no len()",
          "output_type": "error",
          "traceback": [
            "\u001b[1;31m---------------------------------------------------------------------------\u001b[0m",
            "\u001b[1;31mTypeError\u001b[0m                                 Traceback (most recent call last)",
            "Input \u001b[1;32mIn [42]\u001b[0m, in \u001b[0;36m<cell line: 1>\u001b[1;34m()\u001b[0m\n\u001b[1;32m----> 1\u001b[0m \u001b[38;5;28;43mlen\u001b[39;49m\u001b[43m(\u001b[49m\u001b[43mpq\u001b[49m\u001b[43m)\u001b[49m\n",
            "\u001b[1;31mTypeError\u001b[0m: object of type 'PriorityQueue' has no len()"
          ]
        }
      ],
      "id": "adc6609e"
    },
    {
      "cell_type": "code",
      "source": "",
      "metadata": {},
      "execution_count": null,
      "outputs": [],
      "id": "4d941bae"
    }
  ]
}