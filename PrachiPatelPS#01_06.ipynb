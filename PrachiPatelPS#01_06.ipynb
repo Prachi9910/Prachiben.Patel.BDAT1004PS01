{
 "cells": [
  {
   "cell_type": "code",
   "execution_count": 20,
   "id": "1f91aac6-fbb8-4afb-a2d5-b014f7f12a69",
   "metadata": {},
   "outputs": [
    {
     "name": "stdout",
     "output_type": "stream",
     "text": [
      "\n",
      " Que 6 : You can turn a word into pig-Latin using the following two rules (simplified):\n",
      "• If the word starts with a consonant, move that letter to the end and append 'ay'. For example, 'happy' becomes 'appyhay' and 'pencil' becomes 'encilpay'.\n",
      "• If the word starts with a vowel, simply append 'way' to the end of the word. For example, 'enter' becomes 'enterway' and 'other' becomes 'otherway' . For our purposes, there are 5 vowels: a, e, i, o, u (so we count y as a consonant).\n",
      "Write a function pig() that takes a word (i.e., a string) as input and returns its pig-Latin form. Your function should still work if the input word contains upper case characters. Your output should always be lower case however.\n",
      "-->The word HAPPY becomes  appyhay\n",
      "-->The word HAPPY becomes  appyhay\n",
      "-->The word Pencil becomes  encilpay\n"
     ]
    }
   ],
   "source": [
    "#Que 6You can turn a word into pig-Latin using the following two rules (simplified):• If the word starts with a consonant, move that letter to the end and append 'ay'. For example, 'happy' becomes 'appyhay' and 'pencil' becomes 'encilpay'.• If the word starts with a vowel, simply append 'way' to the end of the word. For example, 'enter' becomes 'enterway' and 'other' becomes 'otherway' . For our purposes, there are 5 vowels: a, e, i, o, u (so we count y as a consonant).Write a function pig() that takes a word (i.e., a string) as input and returns its pig-Latin form. Your function should still work if the input word contains upper case characters. Your output should always be lower case however.\n",
    "\n",
    "print(\"\\n Que 6 : You can turn a word into pig-Latin using the following two rules (simplified):\\n• If the word starts with a consonant, move that letter to the end and append 'ay'. For example, 'happy' becomes 'appyhay' and 'pencil' becomes 'encilpay'.\\n• If the word starts with a vowel, simply append 'way' to the end of the word. For example, 'enter' becomes 'enterway' and 'other' becomes 'otherway' . For our purposes, there are 5 vowels: a, e, i, o, u (so we count y as a consonant).\\nWrite a function pig() that takes a word (i.e., a string) as input and returns its pig-Latin form. Your function should still work if the input word contains upper case characters. Your output should always be lower case however.\")\n",
    "def pig(word):\n",
    "    #convert word into small letter \n",
    "    word = word.lower()\n",
    "    if word[0] in ['a','e','i','o','u']:\n",
    "        word = word + 'way'\n",
    "        return word\n",
    "    else:\n",
    "        word = word + word[0]\n",
    "        word = word[1:]\n",
    "        word = word +\"ay\"\n",
    "        return word\n",
    "print(\"-->The word HAPPY becomes \",pig('HAPPY'))\n",
    "print(\"-->The word HAPPY becomes \",pig('HAPPY'))\n",
    "print(\"-->The word Pencil becomes \",pig('Pencil'))\n",
    "\n",
    "\n",
    "\n",
    "\n",
    "\n",
    "\n"
   ]
  },
  {
   "cell_type": "code",
   "execution_count": null,
   "id": "cee42a69-65fb-4396-978f-cc4ce96617ea",
   "metadata": {},
   "outputs": [],
   "source": []
  }
 ],
 "metadata": {
  "kernelspec": {
   "display_name": "Python 3 (ipykernel)",
   "language": "python",
   "name": "python3"
  },
  "language_info": {
   "codemirror_mode": {
    "name": "ipython",
    "version": 3
   },
   "file_extension": ".py",
   "mimetype": "text/x-python",
   "name": "python",
   "nbconvert_exporter": "python",
   "pygments_lexer": "ipython3",
   "version": "3.10.4"
  }
 },
 "nbformat": 4,
 "nbformat_minor": 5
}
