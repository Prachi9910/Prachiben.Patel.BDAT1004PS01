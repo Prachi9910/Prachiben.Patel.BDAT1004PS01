{
 "cells": [
  {
   "cell_type": "code",
   "execution_count": 79,
   "id": "749d7191-a42c-4672-a09e-5e3979afbfda",
   "metadata": {},
   "outputs": [
    {
     "name": "stdout",
     "output_type": "stream",
     "text": [
      "Que 5 Write a program in python to separate odd and even integers in separate arrays\n",
      "--Test Data :\n",
      "Input the number of elements to be stored in the array :5\n",
      "Input 5 elements in the array :\n",
      " element - 0 : 25\n",
      " element - 1 : 47\n",
      " element - 2 : 42\n",
      " element - 3 : 56\n",
      " element - 4 : 32\n",
      "--> So the our main Array is :  [25, 47, 42, 56, 32]\n",
      "\n",
      "    while our EVen no from that are :  [42, 56, 32]\n",
      "\n",
      "    while our Odd no from that are :  [25, 47]\n"
     ]
    }
   ],
   "source": [
    "# Que 4 : Write a program in python to separate odd and even integers in separate arrays. Goto the editor\n",
    "#\n",
    "# \n",
    "print(\"Que 5 Write a program in python to separate odd and even integers in separate arrays\")\n",
    "print(\"--Test Data :\\nInput the number of elements to be stored in the array :5\\nInput 5 elements in the array :\\n element - 0 : 25\\n element - 1 : 47\\n element - 2 : 42\\n element - 3 : 56\\n element - 4 : 32\")\n",
    "\n",
    "mainArray = [25,47,42,56,32]\n",
    "print(\"--> So the our main Array is : \",mainArray)\n",
    "even_no = []\n",
    "odd_no = []\n",
    "\n",
    "for x in mainArray:\n",
    "    if(x % 2 == 0):\n",
    "        even_no.append(x)\n",
    "    else:\n",
    "        odd_no.append(x)\n",
    "    \n",
    "    \n",
    "print(\"\\n    while our EVen no from that are : \",even_no)\n",
    "print(\"\\n    while our Odd no from that are : \",odd_no)\n",
    "\n"
   ]
  },
  {
   "cell_type": "code",
   "execution_count": null,
   "id": "0a9a7fb8-44c4-4ae4-9894-f075e234c57d",
   "metadata": {},
   "outputs": [],
   "source": []
  },
  {
   "cell_type": "code",
   "execution_count": null,
   "id": "2cacaa6f-9fa8-45df-85eb-d5c8362bfd3c",
   "metadata": {},
   "outputs": [],
   "source": []
  }
 ],
 "metadata": {
  "kernelspec": {
   "display_name": "Python 3 (ipykernel)",
   "language": "python",
   "name": "python3"
  },
  "language_info": {
   "codemirror_mode": {
    "name": "ipython",
    "version": 3
   },
   "file_extension": ".py",
   "mimetype": "text/x-python",
   "name": "python",
   "nbconvert_exporter": "python",
   "pygments_lexer": "ipython3",
   "version": "3.10.4"
  }
 },
 "nbformat": 4,
 "nbformat_minor": 5
}
